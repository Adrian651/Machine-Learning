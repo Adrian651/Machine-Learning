{
 "cells": [
  {
   "cell_type": "code",
   "execution_count": 23,
   "metadata": {
    "collapsed": true
   },
   "outputs": [],
   "source": [
    "import math \n",
    "\n",
    "from __future__ import division, print_function, unicode_literals\n"
   ]
  },
  {
   "cell_type": "code",
   "execution_count": 24,
   "metadata": {},
   "outputs": [
    {
     "name": "stdout",
     "output_type": "stream",
     "text": [
      "56000\n"
     ]
    }
   ],
   "source": [
    "l = ( 5554, 6296, 5590, 5707, 5496, 5027, 5469, 5817, 5434, 5610)\n",
    "print (sum(l))"
   ]
  },
  {
   "cell_type": "code",
   "execution_count": 25,
   "metadata": {},
   "outputs": [
    {
     "name": "stdout",
     "output_type": "stream",
     "text": [
      "0.899703720663\n"
     ]
    }
   ],
   "source": [
    "Fi = [f/sum(l) for f in l]\n",
    "Gini = sum([f*(1-f) for f in Fi])\n",
    "print (Gini)  "
   ]
  },
  {
   "cell_type": "code",
   "execution_count": 26,
   "metadata": {},
   "outputs": [
    {
     "name": "stdout",
     "output_type": "stream",
     "text": [
      "3.31980764179\n"
     ]
    }
   ],
   "source": [
    "Fi = [f/sum(l) for f in l]\n",
    "ent = sum ([-1* f * math.log(f,2) for f in Fi])\n",
    "print (ent)"
   ]
  },
  {
   "cell_type": "code",
   "execution_count": 28,
   "metadata": {},
   "outputs": [
    {
     "name": "stdout",
     "output_type": "stream",
     "text": [
      "36127\n",
      "0.880454179121\n"
     ]
    }
   ],
   "source": [
    "Left = [5013, 541, 4435, 1153, 5006, 2965, 4393, 5342, 2795, 4484]\n",
    "Fi = [f/sum(Left) for f in Left]\n",
    "LGini = sum([f*(1-f) for f in Fi])\n",
    "print (sum (Left))\n",
    "print (LGini)"
   ]
  },
  {
   "cell_type": "code",
   "execution_count": 31,
   "metadata": {},
   "outputs": [
    {
     "name": "stdout",
     "output_type": "stream",
     "text": [
      "19783\n",
      "0.822407374167\n"
     ]
    }
   ],
   "source": [
    "Right = [451, 5755, 1155, 4554, 490, 2062, 1076, 475, 2639, 1126]\n",
    "Fi = [f/sum(Right) for f in Right]\n",
    "RGini = sum([f*(1-f) for f in Fi])\n",
    "print (sum(Right))\n",
    "print (RGini)"
   ]
  },
  {
   "cell_type": "code",
   "execution_count": 34,
   "metadata": {},
   "outputs": [
    {
     "name": "stdout",
     "output_type": "stream",
     "text": [
      "0.858533093076\n",
      "Information Gain :  0.0411706275873\n",
      "0.899703720663\n"
     ]
    }
   ],
   "source": [
    "SplitGini = LGini*(sum(Left)/sum(l))+RGini*(sum(Right)/sum(l))\n",
    "print (SplitGini)\n",
    "print ('Information Gain : ', Gini - SplitGini)\n",
    "print (Gini)"
   ]
  },
  {
   "cell_type": "code",
   "execution_count": null,
   "metadata": {
    "collapsed": true
   },
   "outputs": [],
   "source": []
  }
 ],
 "metadata": {
  "kernelspec": {
   "display_name": "Python 2",
   "language": "python",
   "name": "python2"
  },
  "language_info": {
   "codemirror_mode": {
    "name": "ipython",
    "version": 2
   },
   "file_extension": ".py",
   "mimetype": "text/x-python",
   "name": "python",
   "nbconvert_exporter": "python",
   "pygments_lexer": "ipython2",
   "version": "2.7.14"
  }
 },
 "nbformat": 4,
 "nbformat_minor": 2
}
